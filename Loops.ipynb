{
    "nbformat_minor": 1, 
    "cells": [
        {
            "source": "# Use the range\n\nrange(3)", 
            "cell_type": "code", 
            "execution_count": 1, 
            "outputs": [
                {
                    "output_type": "execute_result", 
                    "metadata": {}, 
                    "data": {
                        "text/plain": "range(0, 3)"
                    }, 
                    "execution_count": 1
                }
            ], 
            "metadata": {}
        }, 
        {
            "source": "# Use the range\n\nR = range(3)\nR", 
            "cell_type": "code", 
            "execution_count": 2, 
            "outputs": [
                {
                    "output_type": "execute_result", 
                    "metadata": {}, 
                    "data": {
                        "text/plain": "range(0, 3)"
                    }, 
                    "execution_count": 2
                }
            ], 
            "metadata": {}
        }, 
        {
            "source": "R", 
            "cell_type": "code", 
            "execution_count": 3, 
            "outputs": [
                {
                    "output_type": "execute_result", 
                    "metadata": {}, 
                    "data": {
                        "text/plain": "range(0, 3)"
                    }, 
                    "execution_count": 3
                }
            ], 
            "metadata": {}
        }, 
        {
            "source": "# For loop example\n\ndates = [1982,1980,1973]\nN = len(dates)\n\nfor i in range(N):\n    print(dates[i])  ", 
            "cell_type": "code", 
            "execution_count": 4, 
            "outputs": [
                {
                    "output_type": "stream", 
                    "name": "stdout", 
                    "text": "1982\n1980\n1973\n"
                }
            ], 
            "metadata": {}
        }, 
        {
            "source": "# Example of for loop\n\nfor i in range(0, 8):\n    print(i)", 
            "cell_type": "code", 
            "execution_count": 5, 
            "outputs": [
                {
                    "output_type": "stream", 
                    "name": "stdout", 
                    "text": "0\n1\n2\n3\n4\n5\n6\n7\n"
                }
            ], 
            "metadata": {}
        }, 
        {
            "source": "# Exmaple of for loop, loop through list\n\nfor year in dates:  \n    print(year)  ", 
            "cell_type": "code", 
            "execution_count": 6, 
            "outputs": [
                {
                    "output_type": "stream", 
                    "name": "stdout", 
                    "text": "1982\n1980\n1973\n"
                }
            ], 
            "metadata": {}
        }, 
        {
            "source": "# Use for loop to change the elements in list\n\nsquares = ['red', 'yellow', 'green', 'purple', 'blue']\n\nfor i in range(0, 5):\n    print(\"Before square \", i, 'is',  squares[i])\n    squares[i] = 'weight'\n    print(\"After square \", i, 'is',  squares[i])", 
            "cell_type": "code", 
            "execution_count": 7, 
            "outputs": [
                {
                    "output_type": "stream", 
                    "name": "stdout", 
                    "text": "Before square  0 is red\nAfter square  0 is weight\nBefore square  1 is yellow\nAfter square  1 is weight\nBefore square  2 is green\nAfter square  2 is weight\nBefore square  3 is purple\nAfter square  3 is weight\nBefore square  4 is blue\nAfter square  4 is weight\n"
                }
            ], 
            "metadata": {}
        }, 
        {
            "source": "# Loop through the list and iterate on both index and element value\n\nsquares=['red', 'yellow', 'green', 'purple', 'blue']\n\nfor i, square in enumerate(squares):\n    print(i, square)", 
            "cell_type": "code", 
            "execution_count": 8, 
            "outputs": [
                {
                    "output_type": "stream", 
                    "name": "stdout", 
                    "text": "0 red\n1 yellow\n2 green\n3 purple\n4 blue\n"
                }
            ], 
            "metadata": {}
        }, 
        {
            "source": "# While Loop Example\n\ndates = [1982, 1980, 1973, 2000]\n\ni = 0\nyear = 0\n\nwhile(year != 1973):\n    year = dates[i]\n    i = i + 1\n    print(year)\n\nprint(\"It took \", i ,\"repetitions to get out of loop.\")", 
            "cell_type": "code", 
            "execution_count": 9, 
            "outputs": [
                {
                    "output_type": "stream", 
                    "name": "stdout", 
                    "text": "1982\n1980\n1973\nIt took  3 repetitions to get out of loop.\n"
                }
            ], 
            "metadata": {}
        }, 
        {
            "source": "\nfor i in range(-5, 6):\n    print(i)", 
            "cell_type": "code", 
            "execution_count": 11, 
            "outputs": [
                {
                    "output_type": "stream", 
                    "name": "stdout", 
                    "text": "-5\n-4\n-3\n-2\n-1\n0\n1\n2\n3\n4\n5\n"
                }
            ], 
            "metadata": {}
        }, 
        {
            "source": "Genres = [ 'rock', 'R&B', 'Soundtrack', 'R&B', 'soul', 'pop']\nN = len(Genres)\nN\nfor i in range(N):\n    print(Genres[i])", 
            "cell_type": "code", 
            "execution_count": 14, 
            "outputs": [
                {
                    "output_type": "stream", 
                    "name": "stdout", 
                    "text": "rock\nR&B\nSoundtrack\nR&B\nsoul\npop\n"
                }
            ], 
            "metadata": {}
        }, 
        {
            "source": "squares=['red', 'yellow', 'green', 'purple', 'blue']\nN2 = len(squares)\nfor j in range(N2):\n     print(squares[j])", 
            "cell_type": "code", 
            "execution_count": 16, 
            "outputs": [
                {
                    "output_type": "stream", 
                    "name": "stdout", 
                    "text": "red\nyellow\ngreen\npurple\nblue\n"
                }
            ], 
            "metadata": {}
        }, 
        {
            "source": "PlayListRatings = [10, 9.5, 10, 8, 7.5, 5, 10, 10]\nN3 = len(PlayListRatings)\n\nk=0\nrate=PlayListRatings[0]\n\nwhile(rate >= 6):\n    rate = PlayListRatings[k]\n    k = k+1\n    print(rate)\n    \nprint(\"It took \", k ,\"repetitions to get out of loop.\")", 
            "cell_type": "code", 
            "execution_count": 20, 
            "outputs": [
                {
                    "output_type": "stream", 
                    "name": "stdout", 
                    "text": "10\n9.5\n10\n8\n7.5\n5\nIt took  6 repetitions to get out of loop.\n"
                }
            ], 
            "metadata": {}
        }, 
        {
            "source": "squares = ['orange', 'orange', 'purple', 'blue ', 'orange']\nnew_squares = []\n\nprint(squares)\n\nr=0\n\nwhile(squares[r]=='orange'):\n    new_squares.append(squares[r])\n    r=r+1\n    \n", 
            "cell_type": "code", 
            "execution_count": 25, 
            "outputs": [
                {
                    "output_type": "stream", 
                    "name": "stdout", 
                    "text": "['orange', 'orange', 'purple', 'blue ', 'orange']\n"
                }
            ], 
            "metadata": {}
        }, 
        {
            "source": "print(new_squares)", 
            "cell_type": "code", 
            "execution_count": 26, 
            "outputs": [
                {
                    "output_type": "stream", 
                    "name": "stdout", 
                    "text": "['orange', 'orange']\n"
                }
            ], 
            "metadata": {}
        }, 
        {
            "source": "", 
            "cell_type": "code", 
            "execution_count": null, 
            "outputs": [], 
            "metadata": {}
        }
    ], 
    "nbformat": 4, 
    "metadata": {
        "kernelspec": {
            "display_name": "Python 3.6", 
            "name": "python3", 
            "language": "python"
        }, 
        "language_info": {
            "mimetype": "text/x-python", 
            "nbconvert_exporter": "python", 
            "version": "3.6.8", 
            "name": "python", 
            "pygments_lexer": "ipython3", 
            "file_extension": ".py", 
            "codemirror_mode": {
                "version": 3, 
                "name": "ipython"
            }
        }
    }
}