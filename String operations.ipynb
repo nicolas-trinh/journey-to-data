{
    "nbformat_minor": 1, 
    "cells": [
        {
            "execution_count": 1, 
            "cell_type": "code", 
            "metadata": {}, 
            "outputs": [
                {
                    "execution_count": 1, 
                    "metadata": {}, 
                    "data": {
                        "text/plain": "'Michael Jackson'"
                    }, 
                    "output_type": "execute_result"
                }
            ], 
            "source": "# Use quotation marks for defining string\n\n\"Michael Jackson\""
        }, 
        {
            "execution_count": 2, 
            "cell_type": "code", 
            "metadata": {}, 
            "outputs": [
                {
                    "execution_count": 2, 
                    "metadata": {}, 
                    "data": {
                        "text/plain": "'Michael Jackson'"
                    }, 
                    "output_type": "execute_result"
                }
            ], 
            "source": "# Use single quotation marks for defining string\n\n'Michael Jackson'"
        }, 
        {
            "execution_count": 3, 
            "cell_type": "code", 
            "metadata": {}, 
            "outputs": [
                {
                    "execution_count": 3, 
                    "metadata": {}, 
                    "data": {
                        "text/plain": "'1 2 3 4 5 6 '"
                    }, 
                    "output_type": "execute_result"
                }
            ], 
            "source": "# Digitals and spaces in string\n\n'1 2 3 4 5 6 '"
        }, 
        {
            "execution_count": 4, 
            "cell_type": "code", 
            "metadata": {}, 
            "outputs": [
                {
                    "execution_count": 4, 
                    "metadata": {}, 
                    "data": {
                        "text/plain": "'@#2_#]&*^%$'"
                    }, 
                    "output_type": "execute_result"
                }
            ], 
            "source": "# Special characters in string\n\n'@#2_#]&*^%$'"
        }, 
        {
            "execution_count": 5, 
            "cell_type": "code", 
            "metadata": {}, 
            "outputs": [
                {
                    "output_type": "stream", 
                    "name": "stdout", 
                    "text": "hello!\n"
                }
            ], 
            "source": "# Print the string\n\nprint(\"hello!\")"
        }, 
        {
            "execution_count": 6, 
            "cell_type": "code", 
            "metadata": {}, 
            "outputs": [
                {
                    "execution_count": 6, 
                    "metadata": {}, 
                    "data": {
                        "text/plain": "'Michael Jackson'"
                    }, 
                    "output_type": "execute_result"
                }
            ], 
            "source": "# Assign string to variable\n\nName = \"Michael Jackson\"\nName"
        }, 
        {
            "execution_count": 7, 
            "cell_type": "code", 
            "metadata": {}, 
            "outputs": [
                {
                    "output_type": "stream", 
                    "name": "stdout", 
                    "text": "M\n"
                }
            ], 
            "source": "# Print the first element in the string\n\nprint(Name[0])"
        }, 
        {
            "execution_count": 8, 
            "cell_type": "code", 
            "metadata": {}, 
            "outputs": [
                {
                    "output_type": "stream", 
                    "name": "stdout", 
                    "text": "l\n"
                }
            ], 
            "source": "# Print the element on index 6 in the string\n\nprint(Name[6])"
        }, 
        {
            "execution_count": 9, 
            "cell_type": "code", 
            "metadata": {}, 
            "outputs": [
                {
                    "output_type": "stream", 
                    "name": "stdout", 
                    "text": "o\n"
                }
            ], 
            "source": "# Print the element on the 13th index in the string\n\nprint(Name[13])"
        }, 
        {
            "execution_count": 10, 
            "cell_type": "code", 
            "metadata": {}, 
            "outputs": [
                {
                    "output_type": "stream", 
                    "name": "stdout", 
                    "text": "n\n"
                }
            ], 
            "source": "# Print the last element in the string\n\nprint(Name[-1])"
        }, 
        {
            "execution_count": 11, 
            "cell_type": "code", 
            "metadata": {}, 
            "outputs": [
                {
                    "output_type": "stream", 
                    "name": "stdout", 
                    "text": "M\n"
                }
            ], 
            "source": "# Print the first element in the string\n\nprint(Name[-15])"
        }, 
        {
            "execution_count": 12, 
            "cell_type": "code", 
            "metadata": {}, 
            "outputs": [
                {
                    "execution_count": 12, 
                    "metadata": {}, 
                    "data": {
                        "text/plain": "15"
                    }, 
                    "output_type": "execute_result"
                }
            ], 
            "source": "# Find the length of string\n\nlen(\"Michael Jackson\")"
        }, 
        {
            "execution_count": 13, 
            "cell_type": "code", 
            "metadata": {}, 
            "outputs": [
                {
                    "execution_count": 13, 
                    "metadata": {}, 
                    "data": {
                        "text/plain": "'Mich'"
                    }, 
                    "output_type": "execute_result"
                }
            ], 
            "source": "# Take the slice on variable Name with only index 0 to index 3\n\nName[0:4]"
        }, 
        {
            "execution_count": 14, 
            "cell_type": "code", 
            "metadata": {}, 
            "outputs": [
                {
                    "execution_count": 14, 
                    "metadata": {}, 
                    "data": {
                        "text/plain": "'Jack'"
                    }, 
                    "output_type": "execute_result"
                }
            ], 
            "source": "# Take the slice on variable Name with only index 8 to index 11\n\nName[8:12]"
        }, 
        {
            "execution_count": 15, 
            "cell_type": "code", 
            "metadata": {}, 
            "outputs": [
                {
                    "execution_count": 15, 
                    "metadata": {}, 
                    "data": {
                        "text/plain": "'McalJcsn'"
                    }, 
                    "output_type": "execute_result"
                }
            ], 
            "source": "# Get every second element. The elments on index 1, 3, 5 ...\n\nName[::2]"
        }, 
        {
            "execution_count": 18, 
            "cell_type": "code", 
            "metadata": {}, 
            "outputs": [
                {
                    "execution_count": 18, 
                    "metadata": {}, 
                    "data": {
                        "text/plain": "'Mca'"
                    }, 
                    "output_type": "execute_result"
                }
            ], 
            "source": "# Get every second element in the range from index 0 to index 4\n\nName[0:5:2]"
        }, 
        {
            "execution_count": 20, 
            "cell_type": "code", 
            "metadata": {}, 
            "outputs": [
                {
                    "execution_count": 20, 
                    "metadata": {}, 
                    "data": {
                        "text/plain": "'Michael Jackson is the best'"
                    }, 
                    "output_type": "execute_result"
                }
            ], 
            "source": "# Concatenate two strings\n\nStatement = Name + \" is the best\"\nStatement"
        }, 
        {
            "execution_count": 22, 
            "cell_type": "code", 
            "metadata": {}, 
            "outputs": [
                {
                    "execution_count": 22, 
                    "metadata": {}, 
                    "data": {
                        "text/plain": "'Michael Jackson Michael Jackson Michael Jackson '"
                    }, 
                    "output_type": "execute_result"
                }
            ], 
            "source": "# Print the string for 3 times\n\n3 * \"Michael Jackson \""
        }, 
        {
            "execution_count": 23, 
            "cell_type": "code", 
            "metadata": {}, 
            "outputs": [
                {
                    "execution_count": 23, 
                    "metadata": {}, 
                    "data": {
                        "text/plain": "'Michael Jackson is the best'"
                    }, 
                    "output_type": "execute_result"
                }
            ], 
            "source": "# Concatenate strings\n\nName = \"Michael Jackson\"\nName = Name + \" is the best\"\nName"
        }, 
        {
            "execution_count": 24, 
            "cell_type": "code", 
            "metadata": {}, 
            "outputs": [
                {
                    "output_type": "stream", 
                    "name": "stdout", 
                    "text": " Michael Jackson \n is the best\n"
                }
            ], 
            "source": "# New line escape sequence\n\nprint(\" Michael Jackson \\n is the best\" )"
        }, 
        {
            "execution_count": 25, 
            "cell_type": "code", 
            "metadata": {}, 
            "outputs": [
                {
                    "output_type": "stream", 
                    "name": "stdout", 
                    "text": " Michael Jackson \t is the best\n"
                }
            ], 
            "source": "# Tab escape sequence\n\nprint(\" Michael Jackson \\t is the best\" )"
        }, 
        {
            "execution_count": 26, 
            "cell_type": "code", 
            "metadata": {}, 
            "outputs": [
                {
                    "output_type": "stream", 
                    "name": "stdout", 
                    "text": " Michael Jackson \\ is the best\n"
                }
            ], 
            "source": "# Include back slash in string\n\nprint(\" Michael Jackson \\\\ is the best\" )"
        }, 
        {
            "execution_count": 27, 
            "cell_type": "code", 
            "metadata": {}, 
            "outputs": [
                {
                    "output_type": "stream", 
                    "name": "stdout", 
                    "text": " Michael Jackson \\ is the best\n"
                }
            ], 
            "source": "# r will tell python that string will be display as raw string\n\nprint(r\" Michael Jackson \\ is the best\" )"
        }, 
        {
            "execution_count": 28, 
            "cell_type": "code", 
            "metadata": {}, 
            "outputs": [
                {
                    "output_type": "stream", 
                    "name": "stdout", 
                    "text": "before upper: Thriller is the sixth studio album\nAfter upper: THRILLER IS THE SIXTH STUDIO ALBUM\n"
                }
            ], 
            "source": "# Convert all the characters in string to upper case\n\nA = \"Thriller is the sixth studio album\"\nprint(\"before upper:\", A)\nB = A.upper()\nprint(\"After upper:\", B)"
        }, 
        {
            "execution_count": 29, 
            "cell_type": "code", 
            "metadata": {}, 
            "outputs": [
                {
                    "execution_count": 29, 
                    "metadata": {}, 
                    "data": {
                        "text/plain": "'Janet Jackson is the best'"
                    }, 
                    "output_type": "execute_result"
                }
            ], 
            "source": "# Replace the old substring with the new target substring is the segment has been found in the string\n\nA = \"Michael Jackson is the best\"\nB = A.replace('Michael', 'Janet')\nB"
        }, 
        {
            "execution_count": 30, 
            "cell_type": "code", 
            "metadata": {}, 
            "outputs": [
                {
                    "execution_count": 30, 
                    "metadata": {}, 
                    "data": {
                        "text/plain": "5"
                    }, 
                    "output_type": "execute_result"
                }
            ], 
            "source": "# Find the substring in the string. Only the index of the first elment of substring in string will be the output\n\nName = \"Michael Jackson\"\nName.find('el')"
        }, 
        {
            "execution_count": 31, 
            "cell_type": "code", 
            "metadata": {}, 
            "outputs": [
                {
                    "execution_count": 31, 
                    "metadata": {}, 
                    "data": {
                        "text/plain": "8"
                    }, 
                    "output_type": "execute_result"
                }
            ], 
            "source": "# Find the substring in the string.\n\nName.find('Jack')"
        }, 
        {
            "execution_count": 32, 
            "cell_type": "code", 
            "metadata": {}, 
            "outputs": [
                {
                    "execution_count": 32, 
                    "metadata": {}, 
                    "data": {
                        "text/plain": "-1"
                    }, 
                    "output_type": "execute_result"
                }
            ], 
            "source": "# If cannot find the substring in the string\n\nName.find('Jasdfasdasdf')"
        }, 
        {
            "execution_count": 33, 
            "cell_type": "code", 
            "metadata": {}, 
            "outputs": [], 
            "source": "# Write your code below and press Shift+Enter to execute \n\nA = \"1\""
        }, 
        {
            "execution_count": 34, 
            "cell_type": "code", 
            "metadata": {}, 
            "outputs": [
                {
                    "execution_count": 34, 
                    "metadata": {}, 
                    "data": {
                        "text/plain": "'1'"
                    }, 
                    "output_type": "execute_result"
                }
            ], 
            "source": "A"
        }, 
        {
            "execution_count": 35, 
            "cell_type": "code", 
            "metadata": {}, 
            "outputs": [
                {
                    "execution_count": 35, 
                    "metadata": {}, 
                    "data": {
                        "text/plain": "'2'"
                    }, 
                    "output_type": "execute_result"
                }
            ], 
            "source": "B = \"2\"\nB"
        }, 
        {
            "execution_count": 37, 
            "cell_type": "code", 
            "metadata": {}, 
            "outputs": [
                {
                    "execution_count": 37, 
                    "metadata": {}, 
                    "data": {
                        "text/plain": "'12'"
                    }, 
                    "output_type": "execute_result"
                }
            ], 
            "source": "C = A + B\nC"
        }, 
        {
            "execution_count": 39, 
            "cell_type": "code", 
            "metadata": {}, 
            "outputs": [
                {
                    "execution_count": 39, 
                    "metadata": {}, 
                    "data": {
                        "text/plain": "'ABC'"
                    }, 
                    "output_type": "execute_result"
                }
            ], 
            "source": "D = \"ABCDEFG\"\nD[0:3]"
        }, 
        {
            "execution_count": 41, 
            "cell_type": "code", 
            "metadata": {}, 
            "outputs": [
                {
                    "execution_count": 41, 
                    "metadata": {}, 
                    "data": {
                        "text/plain": "'ccr1t'"
                    }, 
                    "output_type": "execute_result"
                }
            ], 
            "source": "# Write your code below and press Shift+Enter to execute\n\nE = 'clocrkr1e1c1t'\nE[::3]"
        }, 
        {
            "execution_count": 42, 
            "cell_type": "code", 
            "metadata": {}, 
            "outputs": [
                {
                    "output_type": "stream", 
                    "name": "stdout", 
                    "text": " basckslash : \\\n"
                }
            ], 
            "source": "print(\" basckslash : \\\\\" )"
        }, 
        {
            "execution_count": 44, 
            "cell_type": "code", 
            "metadata": {}, 
            "outputs": [
                {
                    "execution_count": 44, 
                    "metadata": {}, 
                    "data": {
                        "text/plain": "'YOU ARE WRONG'"
                    }, 
                    "output_type": "execute_result"
                }
            ], 
            "source": "F = \"You are wrong\"\nF2 = F.upper()\nF2"
        }, 
        {
            "execution_count": 46, 
            "cell_type": "code", 
            "metadata": {}, 
            "outputs": [
                {
                    "execution_count": 46, 
                    "metadata": {}, 
                    "data": {
                        "text/plain": "95"
                    }, 
                    "output_type": "execute_result"
                }
            ], 
            "source": "G = \"Mary had a little lamb Little lamb, little lamb Mary had a little lamb \\\nIts fleece was white as snow And everywhere that Mary went Mary went, Mary went \\\nEverywhere that Mary went The lamb was sure to go\"\nG.find('snow')"
        }, 
        {
            "execution_count": 48, 
            "cell_type": "code", 
            "metadata": {}, 
            "outputs": [
                {
                    "execution_count": 48, 
                    "metadata": {}, 
                    "data": {
                        "text/plain": "'Bob had a little lamb Little lamb, little lamb Bob had a little lamb Its fleece was white as snow And everywhere that Bob went Bob went, Bob went Everywhere that Bob went The lamb was sure to go'"
                    }, 
                    "output_type": "execute_result"
                }
            ], 
            "source": "H=G.replace('Mary', 'Bob')\nH"
        }, 
        {
            "execution_count": null, 
            "cell_type": "code", 
            "metadata": {}, 
            "outputs": [], 
            "source": ""
        }
    ], 
    "metadata": {
        "kernelspec": {
            "display_name": "Python 3.6", 
            "name": "python3", 
            "language": "python"
        }, 
        "language_info": {
            "mimetype": "text/x-python", 
            "nbconvert_exporter": "python", 
            "version": "3.6.8", 
            "name": "python", 
            "file_extension": ".py", 
            "pygments_lexer": "ipython3", 
            "codemirror_mode": {
                "version": 3, 
                "name": "ipython"
            }
        }
    }, 
    "nbformat": 4
}